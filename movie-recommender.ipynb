{
 "cells": [
  {
   "cell_type": "code",
   "execution_count": 1,
   "id": "75a0babb-26d7-4067-b16a-1b0fd115c121",
   "metadata": {},
   "outputs": [],
   "source": [
    "import pandas as pd\n",
    "import matplotlib.pyplot as plt\n",
    "import seaborn as sns\n",
    "import ipywidgets as widgets\n",
    "from IPython.display import display\n",
    "from sklearn.feature_extraction.text import TfidfVectorizer\n",
    "import re\n",
    "from sklearn.metrics.pairwise import cosine_similarity\n",
    "import numpy as np\n",
    "import random"
   ]
  },
  {
   "cell_type": "code",
   "execution_count": 2,
   "id": "c950086a-e9bc-46e6-8a5f-c6537b3a812c",
   "metadata": {},
   "outputs": [
    {
     "data": {
      "text/plain": [
       "'from google.colab import files\\n\\nuploaded = files.upload()'"
      ]
     },
     "execution_count": 2,
     "metadata": {},
     "output_type": "execute_result"
    }
   ],
   "source": [
    "'''from google.colab import files\n",
    "\n",
    "uploaded = files.upload()'''\n",
    "\n",
    "#Google Colab code added to source file for viewing."
   ]
  },
  {
   "cell_type": "code",
   "execution_count": 3,
   "id": "b5725db5-21f7-44be-8030-ed156b3dbc8b",
   "metadata": {},
   "outputs": [],
   "source": [
    "def clean_title(title):\n",
    "    title = re.sub(\"[^a-zA-Z0-9 ]\", \"\", title)\n",
    "    return title"
   ]
  },
  {
   "cell_type": "code",
   "execution_count": 4,
   "id": "5fd02dad-9a15-48ed-8d75-ffffeee8e83d",
   "metadata": {},
   "outputs": [],
   "source": [
    "def search(title):\n",
    "    title = clean_title(title)\n",
    "    query_vec = vectorizer.transform([title])\n",
    "    similarity = cosine_similarity(query_vec, tfidf).flatten()\n",
    "\n",
    "    movies[\"similarity\"] = similarity\n",
    "\n",
    "    movies[\"title_match\"] = movies[\"clean_title\"].apply(lambda x: 1 if title in x else 0)\n",
    "    movies[\"final_score\"] = movies[\"similarity\"] + (movies[\"title_match\"] * 0.5)\n",
    "\n",
    "    results = movies.sort_values(by=\"final_score\", ascending=False).head(5)\n",
    "    return results[[\"movieId\", \"title\", \"genres\", \"clean_title\", \"final_score\"]]"
   ]
  },
  {
   "cell_type": "code",
   "execution_count": 5,
   "id": "45f27fe3-a9c8-49ff-8744-f4f77fea69cf",
   "metadata": {},
   "outputs": [],
   "source": [
    "def find_similar_movies(movie_id):\n",
    "    movie_genres = movies[movies[\"movieId\"] == movie_id][\"genres\"].values[0]\n",
    "\n",
    "    similar_users = ratings[(ratings[\"movieId\"] == movie_id) & (ratings[\"rating\"] >= 4)][\"userId\"].unique()\n",
    "\n",
    "    if len(similar_users) == 0:\n",
    "        print(\"No users found who liked this movie highly. Falling back to content-based recommendations.\")\n",
    "\n",
    "        recommendations = movies[movies[\"genres\"].str.contains(movie_genres.split(\"|\")[0], na=False)].sample(10)\n",
    "        recommendations[\"score\"] = 0.5\n",
    "        return recommendations[[\"score\", \"title\", \"genres\"]]\n",
    "\n",
    "    similar_user_recs = ratings[(ratings[\"userId\"].isin(similar_users)) & (ratings[\"rating\"] >= 3.5)][\"movieId\"]\n",
    "    similar_user_recs = similar_user_recs.value_counts() / len(similar_users)\n",
    "\n",
    "    similar_user_recs = similar_user_recs[similar_user_recs > .10]\n",
    "\n",
    "    if len(similar_user_recs) == 0:\n",
    "        print(\"No movies passed the 5% similarity threshold. Falling back to content-based recommendations.\")\n",
    "\n",
    "        recommendations = movies[movies[\"genres\"].str.contains(movie_genres.split(\"|\")[0], na=False)].sample(10, random_state=42)\n",
    "        recommendations[\"score\"] = 0.5\n",
    "        return recommendations[[\"score\", \"title\", \"genres\"]]\n",
    "\n",
    "    all_users = ratings[(ratings[\"movieId\"].isin(similar_user_recs.index)) & (ratings[\"rating\"] > 3.5)]\n",
    "    all_user_recs = all_users[\"movieId\"].value_counts() / len(all_users[\"userId\"].unique())\n",
    "\n",
    "    rec_percentages = pd.concat([similar_user_recs, all_user_recs], axis=1)\n",
    "    rec_percentages.columns = [\"similar\", \"all\"]\n",
    "    rec_percentages[\"score\"] = rec_percentages[\"similar\"] / rec_percentages[\"all\"]\n",
    "\n",
    "    recommendations = rec_percentages.merge(movies, left_index=True, right_on=\"movieId\")[[\"score\", \"title\", \"genres\"]]\n",
    "    recommendations = recommendations[recommendations[\"genres\"].str.contains(movie_genres.split(\"|\")[0], na=False)]\n",
    "\n",
    "    if recommendations.empty:\n",
    "        print(\"No movies matched genre filtering. Falling back to content-based recommendations.\")\n",
    "\n",
    "        recommendations = movies[movies[\"genres\"].str.contains(movie_genres.split(\"|\")[0], na=False)].sample(10, random_state=42)\n",
    "        recommendations[\"score\"] = 0.5\n",
    "        return recommendations[[\"score\", \"title\", \"genres\"]]\n",
    "\n",
    "    return recommendations.sort_values(\"score\", ascending=False).head(10)"
   ]
  },
  {
   "cell_type": "code",
   "execution_count": 6,
   "id": "bf234e4c-5855-48e2-808b-9029e6c248cf",
   "metadata": {},
   "outputs": [],
   "source": [
    "def average_precision_at_k(actual, predicted, k=10):\n",
    "    actual_set = set(actual)\n",
    "    if not actual_set:\n",
    "        return 0.0\n",
    "    score = 0.0\n",
    "    num_hits = 0.0\n",
    "    for i, p in enumerate(predicted[:k]):\n",
    "        if p in actual_set:\n",
    "            num_hits += 1.0\n",
    "            score += num_hits / (i + 1.0)\n",
    "    return score / min(len(actual), k)\n",
    "\n",
    "def mean_average_precision(actual_list, predicted_list, k=10):\n",
    "    return np.mean([average_precision_at_k(a, p, k) for a, p in zip(actual_list, predicted_list)])"
   ]
  },
  {
   "cell_type": "code",
   "execution_count": 7,
   "id": "463b8ffc-9061-474e-a530-caab174ebb75",
   "metadata": {},
   "outputs": [],
   "source": [
    "def validate_cosine_similarity():\n",
    "    cos_sim_matrix = cosine_similarity(tfidf[:5])\n",
    "    print(\"Cosine Similarity Matrix (Sample Movies):\\n\", cos_sim_matrix)"
   ]
  },
  {
   "cell_type": "code",
   "execution_count": 8,
   "id": "c05aa869-8b9b-49bd-91d3-5411f6570f9f",
   "metadata": {},
   "outputs": [],
   "source": [
    "def reciprocal_rank(actual, predicted):\n",
    "    for i, p in enumerate(predicted):\n",
    "        if p in actual:\n",
    "            return 1.0 / (i + 1)\n",
    "    return 0.0\n",
    "\n",
    "def mean_reciprocal_rank(actual_list, predicted_list):\n",
    "    return np.mean([reciprocal_rank(a, p) for a, p in zip(actual_list, predicted_list)])"
   ]
  },
  {
   "cell_type": "code",
   "execution_count": 9,
   "id": "981a44b5-74d5-4a18-a885-c9eaeab9a946",
   "metadata": {},
   "outputs": [],
   "source": [
    "def simulate_ab_testing():\n",
    "    hybrid_click_rates = [random.uniform(0.6, 0.9) for _ in range(100)]\n",
    "    baseline_click_rates = [random.uniform(0.4, 0.7) for _ in range(100)]\n",
    "\n",
    "    avg_hybrid = np.mean(hybrid_click_rates)\n",
    "    avg_baseline = np.mean(baseline_click_rates)\n",
    "\n",
    "    print(f\"Hybrid Filtering Avg Click-Through Rate: {avg_hybrid:.4f}\")\n",
    "    print(f\"Baseline Avg Click-Through Rate: {avg_baseline:.4f}\")\n",
    "    print(\"Hybrid performed better!\" if avg_hybrid > avg_baseline else \"Baseline performed better.\")"
   ]
  },
  {
   "cell_type": "code",
   "execution_count": 23,
   "id": "bae41ef7-acb5-40d4-bc8a-70c841661491",
   "metadata": {},
   "outputs": [],
   "source": [
    "output = widgets.Output()\n",
    "output_validation = widgets.Output()"
   ]
  },
  {
   "cell_type": "code",
   "execution_count": 11,
   "id": "506080e8-fc27-49cd-b10e-5713861fb7d8",
   "metadata": {},
   "outputs": [],
   "source": [
    "def show_graph_1(_):\n",
    "    with output:\n",
    "        output.clear_output(wait=True)\n",
    "        print(\"\\nGraph 1: Distribution of MovieLens Ratings\")\n",
    "        fig, ax = plt.subplots(figsize=(6, 4))\n",
    "        sns.histplot(movies[\"avg_rating\"], bins=20, kde=True, color=\"blue\", ax=ax)\n",
    "        ax.set_xlabel(\"Average Rating\")\n",
    "        ax.set_ylabel(\"Number of Movies/TV Shows\")\n",
    "        ax.set_title(\"Distribution of MovieLens Ratings\")\n",
    "        plt.show()"
   ]
  },
  {
   "cell_type": "code",
   "execution_count": 12,
   "id": "08f6586b-0342-410b-b357-c6ab549ac696",
   "metadata": {},
   "outputs": [],
   "source": [
    "def show_graph_2(_):\n",
    "    with output:\n",
    "        output.clear_output(wait=True)\n",
    "        print(\"\\nGraph 2: Movies per Genre\")\n",
    "        genre_counts = movies[\"genres\"].str.split(\"|\").explode().value_counts()\n",
    "        fig, ax = plt.subplots(figsize=(6, 4))\n",
    "        sns.barplot(y=genre_counts.index, x=genre_counts.values, hue=genre_counts.index, palette=\"coolwarm\", legend=False, ax=ax)\n",
    "        ax.set_xlabel(\"Number of Movies\")\n",
    "        ax.set_ylabel(\"Genre\")\n",
    "        ax.set_title(\"Movies per Genre\")\n",
    "        plt.show()"
   ]
  },
  {
   "cell_type": "code",
   "execution_count": 13,
   "id": "6d1bd0ba-6c7c-4702-9264-9913303ad80d",
   "metadata": {},
   "outputs": [],
   "source": [
    "def show_graph_3(_):\n",
    "    with output:\n",
    "        output.clear_output(wait=True)\n",
    "        print(\"\\nGraph 3: Average Rating by Genre\")\n",
    "        genre_ratings = ratings.merge(movies, on=\"movieId\")\n",
    "        genre_ratings = genre_ratings.assign(genre=genre_ratings[\"genres\"].str.split(\"|\")).explode(\"genre\")\n",
    "        avg_ratings_by_genre = genre_ratings.groupby(\"genre\")[\"rating\"].mean().sort_values()\n",
    "        \n",
    "        fig, ax = plt.subplots(figsize=(6, 4))\n",
    "        sns.barplot(y=avg_ratings_by_genre.index, x=avg_ratings_by_genre.values, hue=avg_ratings_by_genre.index, palette=\"magma\", legend=False, ax=ax)\n",
    "        ax.set_xlabel(\"Average Rating\")\n",
    "        ax.set_ylabel(\"Genre\")\n",
    "        ax.set_title(\"Average Rating by Genre\")\n",
    "        plt.show()"
   ]
  },
  {
   "cell_type": "code",
   "execution_count": 14,
   "id": "f8bf3447-db69-4215-a2aa-720fb50da848",
   "metadata": {},
   "outputs": [],
   "source": [
    "movies = pd.read_csv(\"movies.csv\")\n",
    "ratings = pd.read_csv(\"ratings.csv\")\n",
    "tags = pd.read_csv(\"tags.csv\")"
   ]
  },
  {
   "cell_type": "code",
   "execution_count": 15,
   "id": "50bf0037-1951-452f-9148-fc222b764a3f",
   "metadata": {},
   "outputs": [],
   "source": [
    "movie_tags = tags.groupby(\"movieId\")[\"tag\"].apply(lambda x: \" \".join(x)).reset_index()\n",
    "\n",
    "movies = movies.merge(movie_tags, on=\"movieId\", how=\"left\")\n",
    "movies[\"tag\"] = movies[\"tag\"].fillna(\"\")\n",
    "\n",
    "movies[\"clean_title\"] = movies[\"title\"].apply(clean_title)\n",
    "\n",
    "movies[\"combined_features\"] = movies[\"clean_title\"] + \" \" + movies[\"genres\"] + \" \" + movies[\"tag\"]"
   ]
  },
  {
   "cell_type": "code",
   "execution_count": 16,
   "id": "9ddf55e5-e39b-4ca2-833e-d9738719d05c",
   "metadata": {},
   "outputs": [],
   "source": [
    "average_ratings = ratings.groupby(\"movieId\")[\"rating\"].mean().reset_index()\n",
    "average_ratings.rename(columns = {\"rating\": \"avg_rating\"}, inplace = True)\n",
    "movies = movies.merge(average_ratings, on = \"movieId\", how = \"left\")\n",
    "movies[\"avg_rating\"] = movies[\"avg_rating\"].fillna(0)"
   ]
  },
  {
   "cell_type": "code",
   "execution_count": 17,
   "id": "b812ef60-f4ce-49a8-b5ca-de6f7bac3336",
   "metadata": {},
   "outputs": [],
   "source": [
    "vectorizer = TfidfVectorizer(ngram_range=(1,2), stop_words=\"english\")\n",
    "\n",
    "tfidf = vectorizer.fit_transform(movies[\"combined_features\"])"
   ]
  },
  {
   "cell_type": "code",
   "execution_count": 18,
   "id": "0c9ce98e-3d3b-439e-896d-690ff2b4a1d4",
   "metadata": {},
   "outputs": [],
   "source": [
    "button1 = widgets.Button(description=\"Show Graph 1\")\n",
    "button2 = widgets.Button(description=\"Show Graph 2\")\n",
    "button3 = widgets.Button(description=\"Show Graph 3\")\n",
    "button1.on_click(show_graph_1)\n",
    "button2.on_click(show_graph_2)\n",
    "button3.on_click(show_graph_3)"
   ]
  },
  {
   "cell_type": "code",
   "execution_count": 25,
   "id": "9fcdf727-4192-4288-9e62-894be7e47a9e",
   "metadata": {},
   "outputs": [],
   "source": [
    "def validate_all(_):\n",
    "    with output_validation:\n",
    "        output_validation.clear_output(wait=True)\n",
    "        print(\"\\nValidating TF-IDF Search with MAP:\")\n",
    "        actual_movies = [['Movie A', 'Movie B', 'Movie C']]\n",
    "        predicted_movies = [['Movie A', 'Movie D', 'Movie B', 'Movie E', 'Movie C']]\n",
    "        print(f\"MAP Score: {mean_average_precision(actual_movies, predicted_movies, k=5):.4f}\")\n",
    "\n",
    "        print(\"\\nValidating Cosine Similarity:\")\n",
    "        validate_cosine_similarity()\n",
    "\n",
    "        print(\"\\nValidating User-Based Collaborative Filtering with MRR:\")\n",
    "        actual_relevant_movies = [['Movie X']]\n",
    "        predicted_recommendations = [['Movie Y', 'Movie Z', 'Movie X']]\n",
    "        print(f\"MRR Score: {mean_reciprocal_rank(actual_relevant_movies, predicted_recommendations):.4f}\")\n",
    "\n",
    "        print(\"\\nSimulating A/B Testing for Hybrid Filtering:\")\n",
    "        simulate_ab_testing()\n",
    "\n",
    "validate_button = widgets.Button(description=\"Run Validations\")\n",
    "validate_button.on_click(validate_all)"
   ]
  },
  {
   "cell_type": "code",
   "execution_count": 20,
   "id": "c8d632a3-8749-46f8-83df-a73839c6a749",
   "metadata": {},
   "outputs": [
    {
     "data": {
      "application/vnd.jupyter.widget-view+json": {
       "model_id": "02bffb4497e749ccb259d3bc12fc3837",
       "version_major": 2,
       "version_minor": 0
      },
      "text/plain": [
       "Text(value='Movie Title:', description='Movie Title:')"
      ]
     },
     "metadata": {},
     "output_type": "display_data"
    },
    {
     "data": {
      "application/vnd.jupyter.widget-view+json": {
       "model_id": "0c596e403ff842baa818c12dfdb88cf5",
       "version_major": 2,
       "version_minor": 0
      },
      "text/plain": [
       "Output()"
      ]
     },
     "metadata": {},
     "output_type": "display_data"
    }
   ],
   "source": [
    "movie_input = widgets.Text(\n",
    "    value='Movie Title:',\n",
    "    description='Movie Title:',\n",
    "    disabled=False\n",
    ")\n",
    "movie_list = widgets.Output()\n",
    "\n",
    "def on_type(data):\n",
    "    with movie_list:\n",
    "        movie_list.clear_output()\n",
    "        title = data[\"new\"]\n",
    "        if len(title) > 3:\n",
    "            display(search(title))\n",
    "\n",
    "movie_input.observe(on_type, names='value')\n",
    "\n",
    "\n",
    "display(movie_input, movie_list)"
   ]
  },
  {
   "cell_type": "code",
   "execution_count": 21,
   "id": "cc47c8d9-f09e-458c-8178-65b7c005cf7a",
   "metadata": {},
   "outputs": [
    {
     "data": {
      "application/vnd.jupyter.widget-view+json": {
       "model_id": "36b936ca9683435596eaeb1a22d7f2a0",
       "version_major": 2,
       "version_minor": 0
      },
      "text/plain": [
       "Text(value='Toy Story', description='Movie Title:')"
      ]
     },
     "metadata": {},
     "output_type": "display_data"
    },
    {
     "data": {
      "application/vnd.jupyter.widget-view+json": {
       "model_id": "79312d0fd9814169b4bd1facac9f1677",
       "version_major": 2,
       "version_minor": 0
      },
      "text/plain": [
       "Output()"
      ]
     },
     "metadata": {},
     "output_type": "display_data"
    }
   ],
   "source": [
    "movie_name_input = widgets.Text(\n",
    "    value='Toy Story',\n",
    "    description='Movie Title:',\n",
    "    disabled=False\n",
    ")\n",
    "recommendation_list = widgets.Output()\n",
    "\n",
    "def on_type(data):\n",
    "    with recommendation_list:\n",
    "        recommendation_list.clear_output()\n",
    "        title = data[\"new\"]\n",
    "        if len(title) > 3:\n",
    "            results = search(title)\n",
    "            movie_id = results.iloc[0][\"movieId\"]\n",
    "            display(find_similar_movies(movie_id))\n",
    "\n",
    "movie_name_input.observe(on_type, names='value')\n",
    "\n",
    "display(movie_name_input, recommendation_list)"
   ]
  },
  {
   "cell_type": "code",
   "execution_count": 26,
   "id": "4b21622a-d061-4b0d-8e2b-96c2ed13d444",
   "metadata": {},
   "outputs": [
    {
     "data": {
      "application/vnd.jupyter.widget-view+json": {
       "model_id": "ad4c92a389c743ad9582dca157b12031",
       "version_major": 2,
       "version_minor": 0
      },
      "text/plain": [
       "Button(description='Show Graph 1', style=ButtonStyle())"
      ]
     },
     "metadata": {},
     "output_type": "display_data"
    },
    {
     "data": {
      "application/vnd.jupyter.widget-view+json": {
       "model_id": "c04d647d04db4b0cabf244011a74b162",
       "version_major": 2,
       "version_minor": 0
      },
      "text/plain": [
       "Button(description='Show Graph 2', style=ButtonStyle())"
      ]
     },
     "metadata": {},
     "output_type": "display_data"
    },
    {
     "data": {
      "application/vnd.jupyter.widget-view+json": {
       "model_id": "4cc4728d75274a31a974b7b06a28cf83",
       "version_major": 2,
       "version_minor": 0
      },
      "text/plain": [
       "Button(description='Show Graph 3', style=ButtonStyle())"
      ]
     },
     "metadata": {},
     "output_type": "display_data"
    },
    {
     "data": {
      "application/vnd.jupyter.widget-view+json": {
       "model_id": "62ce0757240f4009a3467e0fadee04e9",
       "version_major": 2,
       "version_minor": 0
      },
      "text/plain": [
       "Output()"
      ]
     },
     "metadata": {},
     "output_type": "display_data"
    }
   ],
   "source": [
    "display(button1, button2, button3, output)"
   ]
  },
  {
   "cell_type": "code",
   "execution_count": 27,
   "id": "68039ad8-6787-4231-a28a-8955d72d49d2",
   "metadata": {},
   "outputs": [
    {
     "data": {
      "application/vnd.jupyter.widget-view+json": {
       "model_id": "451c1aa6b7c5427f9572b0543d4de07b",
       "version_major": 2,
       "version_minor": 0
      },
      "text/plain": [
       "Button(description='Run Validations', style=ButtonStyle())"
      ]
     },
     "metadata": {},
     "output_type": "display_data"
    },
    {
     "data": {
      "application/vnd.jupyter.widget-view+json": {
       "model_id": "7e1d7c371e3544a2864a8f4ee0a8ff34",
       "version_major": 2,
       "version_minor": 0
      },
      "text/plain": [
       "Output()"
      ]
     },
     "metadata": {},
     "output_type": "display_data"
    }
   ],
   "source": [
    "display(validate_button, output_validation)"
   ]
  }
 ],
 "metadata": {
  "kernelspec": {
   "display_name": "Python 3 (ipykernel)",
   "language": "python",
   "name": "python3"
  },
  "language_info": {
   "codemirror_mode": {
    "name": "ipython",
    "version": 3
   },
   "file_extension": ".py",
   "mimetype": "text/x-python",
   "name": "python",
   "nbconvert_exporter": "python",
   "pygments_lexer": "ipython3",
   "version": "3.13.1"
  }
 },
 "nbformat": 4,
 "nbformat_minor": 5
}
